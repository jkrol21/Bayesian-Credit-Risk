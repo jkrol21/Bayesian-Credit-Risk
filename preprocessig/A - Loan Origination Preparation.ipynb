{
 "cells": [
  {
   "cell_type": "code",
   "execution_count": 1,
   "metadata": {},
   "outputs": [],
   "source": [
    "import pandas as pd\n",
    "import numpy as np"
   ]
  },
  {
   "cell_type": "markdown",
   "metadata": {},
   "source": [
    "## Data Import\n",
    "### Loan Origination Data\n",
    "\n",
    "+ concatenate the origination data into one file"
   ]
  },
  {
   "cell_type": "code",
   "execution_count": 2,
   "metadata": {},
   "outputs": [],
   "source": [
    "loan_colnames =['CREDIT_SCORE', 'FIRST_PAYMENT_DATE', 'FIRST_TIME_HOMEBUYER', 'MATURITY_DATE', 'METROPOLITAN_STATISTICAL_AREA',\n",
    " 'MORTGAGE_INSURANCE_PERC', 'NUMBER_UNITS','OCCUPANCY_STATUS', 'ORIG_COMBINED_LTV', 'ORIG_DTI_RATIO',\n",
    " 'ORIG_UPB', 'ORIG_LTV', 'ORIG_INTEREST_RATE', 'CHANNEL', 'PPM', 'AMORTIZATION_TYPE', 'PROPERTY_STATE',\n",
    " 'PROPERTY_TYPE', 'POSTAL_CODE', 'LOAN_SEQ_NUMBER', 'LOAN_PURPOSE', 'ORIG_LOAN_TERM', 'NUMBER_BORROWERS',\n",
    " 'SELLER_NAME', 'SERVICER_NAME', 'SUPER_CONFORMING', 'PRE_HARP_LOAN_SEQ_NUMBER', 'PROGRAM_INDICATOR',\n",
    " 'HARP_INDICATOR', 'PROPERTY_VALUATION_METHOD', 'INTEREST_ONLY']"
   ]
  },
  {
   "cell_type": "code",
   "execution_count": 4,
   "metadata": {},
   "outputs": [
    {
     "name": "stdout",
     "output_type": "stream",
     "text": [
      "(300000, 32)\n"
     ]
    },
    {
     "data": {
      "text/html": [
       "<div>\n",
       "<style scoped>\n",
       "    .dataframe tbody tr th:only-of-type {\n",
       "        vertical-align: middle;\n",
       "    }\n",
       "\n",
       "    .dataframe tbody tr th {\n",
       "        vertical-align: top;\n",
       "    }\n",
       "\n",
       "    .dataframe thead th {\n",
       "        text-align: right;\n",
       "    }\n",
       "</style>\n",
       "<table border=\"1\" class=\"dataframe\">\n",
       "  <thead>\n",
       "    <tr style=\"text-align: right;\">\n",
       "      <th></th>\n",
       "      <th>CREDIT_SCORE</th>\n",
       "      <th>FIRST_PAYMENT_DATE</th>\n",
       "      <th>FIRST_TIME_HOMEBUYER</th>\n",
       "      <th>MATURITY_DATE</th>\n",
       "      <th>METROPOLITAN_STATISTICAL_AREA</th>\n",
       "      <th>MORTGAGE_INSURANCE_PERC</th>\n",
       "      <th>NUMBER_UNITS</th>\n",
       "      <th>OCCUPANCY_STATUS</th>\n",
       "      <th>ORIG_COMBINED_LTV</th>\n",
       "      <th>ORIG_DTI_RATIO</th>\n",
       "      <th>...</th>\n",
       "      <th>NUMBER_BORROWERS</th>\n",
       "      <th>SELLER_NAME</th>\n",
       "      <th>SERVICER_NAME</th>\n",
       "      <th>SUPER_CONFORMING</th>\n",
       "      <th>PRE_HARP_LOAN_SEQ_NUMBER</th>\n",
       "      <th>PROGRAM_INDICATOR</th>\n",
       "      <th>HARP_INDICATOR</th>\n",
       "      <th>PROPERTY_VALUATION_METHOD</th>\n",
       "      <th>INTEREST_ONLY</th>\n",
       "      <th>LOAN_ORIG_YEAR</th>\n",
       "    </tr>\n",
       "  </thead>\n",
       "  <tbody>\n",
       "    <tr>\n",
       "      <th>0</th>\n",
       "      <td>784</td>\n",
       "      <td>201005</td>\n",
       "      <td>N</td>\n",
       "      <td>202504</td>\n",
       "      <td>45780.0</td>\n",
       "      <td>0</td>\n",
       "      <td>1</td>\n",
       "      <td>P</td>\n",
       "      <td>90</td>\n",
       "      <td>38</td>\n",
       "      <td>...</td>\n",
       "      <td>2</td>\n",
       "      <td>Other sellers</td>\n",
       "      <td>U.S. BANK N.A.</td>\n",
       "      <td>NaN</td>\n",
       "      <td>NaN</td>\n",
       "      <td>9</td>\n",
       "      <td>NaN</td>\n",
       "      <td>9</td>\n",
       "      <td>N</td>\n",
       "      <td>2010</td>\n",
       "    </tr>\n",
       "    <tr>\n",
       "      <th>1</th>\n",
       "      <td>795</td>\n",
       "      <td>201003</td>\n",
       "      <td>9</td>\n",
       "      <td>202502</td>\n",
       "      <td>NaN</td>\n",
       "      <td>0</td>\n",
       "      <td>1</td>\n",
       "      <td>P</td>\n",
       "      <td>67</td>\n",
       "      <td>35</td>\n",
       "      <td>...</td>\n",
       "      <td>2</td>\n",
       "      <td>Other sellers</td>\n",
       "      <td>Other servicers</td>\n",
       "      <td>NaN</td>\n",
       "      <td>NaN</td>\n",
       "      <td>9</td>\n",
       "      <td>NaN</td>\n",
       "      <td>9</td>\n",
       "      <td>N</td>\n",
       "      <td>2010</td>\n",
       "    </tr>\n",
       "    <tr>\n",
       "      <th>2</th>\n",
       "      <td>784</td>\n",
       "      <td>201003</td>\n",
       "      <td>N</td>\n",
       "      <td>202502</td>\n",
       "      <td>36100.0</td>\n",
       "      <td>0</td>\n",
       "      <td>1</td>\n",
       "      <td>P</td>\n",
       "      <td>55</td>\n",
       "      <td>47</td>\n",
       "      <td>...</td>\n",
       "      <td>2</td>\n",
       "      <td>Other sellers</td>\n",
       "      <td>Other servicers</td>\n",
       "      <td>NaN</td>\n",
       "      <td>NaN</td>\n",
       "      <td>9</td>\n",
       "      <td>NaN</td>\n",
       "      <td>9</td>\n",
       "      <td>N</td>\n",
       "      <td>2010</td>\n",
       "    </tr>\n",
       "    <tr>\n",
       "      <th>3</th>\n",
       "      <td>759</td>\n",
       "      <td>201003</td>\n",
       "      <td>N</td>\n",
       "      <td>204002</td>\n",
       "      <td>47260.0</td>\n",
       "      <td>0</td>\n",
       "      <td>1</td>\n",
       "      <td>P</td>\n",
       "      <td>50</td>\n",
       "      <td>27</td>\n",
       "      <td>...</td>\n",
       "      <td>1</td>\n",
       "      <td>Other sellers</td>\n",
       "      <td>Other servicers</td>\n",
       "      <td>NaN</td>\n",
       "      <td>NaN</td>\n",
       "      <td>9</td>\n",
       "      <td>NaN</td>\n",
       "      <td>9</td>\n",
       "      <td>N</td>\n",
       "      <td>2010</td>\n",
       "    </tr>\n",
       "    <tr>\n",
       "      <th>4</th>\n",
       "      <td>695</td>\n",
       "      <td>201004</td>\n",
       "      <td>N</td>\n",
       "      <td>204003</td>\n",
       "      <td>NaN</td>\n",
       "      <td>0</td>\n",
       "      <td>1</td>\n",
       "      <td>P</td>\n",
       "      <td>50</td>\n",
       "      <td>21</td>\n",
       "      <td>...</td>\n",
       "      <td>2</td>\n",
       "      <td>Other sellers</td>\n",
       "      <td>Other servicers</td>\n",
       "      <td>NaN</td>\n",
       "      <td>NaN</td>\n",
       "      <td>9</td>\n",
       "      <td>NaN</td>\n",
       "      <td>9</td>\n",
       "      <td>N</td>\n",
       "      <td>2010</td>\n",
       "    </tr>\n",
       "  </tbody>\n",
       "</table>\n",
       "<p>5 rows × 32 columns</p>\n",
       "</div>"
      ],
      "text/plain": [
       "   CREDIT_SCORE  FIRST_PAYMENT_DATE FIRST_TIME_HOMEBUYER  MATURITY_DATE  \\\n",
       "0           784              201005                    N         202504   \n",
       "1           795              201003                    9         202502   \n",
       "2           784              201003                    N         202502   \n",
       "3           759              201003                    N         204002   \n",
       "4           695              201004                    N         204003   \n",
       "\n",
       "   METROPOLITAN_STATISTICAL_AREA  MORTGAGE_INSURANCE_PERC  NUMBER_UNITS  \\\n",
       "0                        45780.0                        0             1   \n",
       "1                            NaN                        0             1   \n",
       "2                        36100.0                        0             1   \n",
       "3                        47260.0                        0             1   \n",
       "4                            NaN                        0             1   \n",
       "\n",
       "  OCCUPANCY_STATUS  ORIG_COMBINED_LTV  ORIG_DTI_RATIO  ...  NUMBER_BORROWERS  \\\n",
       "0                P                 90              38  ...                 2   \n",
       "1                P                 67              35  ...                 2   \n",
       "2                P                 55              47  ...                 2   \n",
       "3                P                 50              27  ...                 1   \n",
       "4                P                 50              21  ...                 2   \n",
       "\n",
       "     SELLER_NAME    SERVICER_NAME SUPER_CONFORMING PRE_HARP_LOAN_SEQ_NUMBER  \\\n",
       "0  Other sellers   U.S. BANK N.A.              NaN                      NaN   \n",
       "1  Other sellers  Other servicers              NaN                      NaN   \n",
       "2  Other sellers  Other servicers              NaN                      NaN   \n",
       "3  Other sellers  Other servicers              NaN                      NaN   \n",
       "4  Other sellers  Other servicers              NaN                      NaN   \n",
       "\n",
       "  PROGRAM_INDICATOR HARP_INDICATOR PROPERTY_VALUATION_METHOD  INTEREST_ONLY  \\\n",
       "0                 9            NaN                         9              N   \n",
       "1                 9            NaN                         9              N   \n",
       "2                 9            NaN                         9              N   \n",
       "3                 9            NaN                         9              N   \n",
       "4                 9            NaN                         9              N   \n",
       "\n",
       "  LOAN_ORIG_YEAR  \n",
       "0           2010  \n",
       "1           2010  \n",
       "2           2010  \n",
       "3           2010  \n",
       "4           2010  \n",
       "\n",
       "[5 rows x 32 columns]"
      ]
     },
     "execution_count": 4,
     "metadata": {},
     "output_type": "execute_result"
    }
   ],
   "source": [
    "seed_value = 123456\n",
    "\n",
    "loanlevel_full = None\n",
    "\n",
    "years = [2010, 2011, 2012, 2013, 2014, 2015] \n",
    "\n",
    "## Data dowloaded from https://freddiemac.embs.com/FLoan/Data/downloadA.php\n",
    "# 'sampel_[YEAR].zip' folder\n",
    "\n",
    "# iterate through all columns and combine into one DF\n",
    "for year in years:\n",
    "    loan_orig = pd.read_csv('sample_'+str(year)+'/sample_orig_'+str(year)+'.txt', delimiter=\"|\",names=loan_colnames, header=None)\n",
    "    \n",
    "    #loan_orig = loan_orig.sample(yearly_samples, random_state=seed_value)\n",
    "    # in some cases the first payment date is not the same as the origination date\n",
    "    loan_orig['LOAN_ORIG_YEAR'] = year\n",
    "    \n",
    "    if loanlevel_full is None:\n",
    "        loanlevel_full = loan_orig.copy()\n",
    "    else:\n",
    "        loanlevel_full = loanlevel_full.append(loan_orig)\n",
    "        \n",
    "print(loanlevel_full.shape)\n",
    "\n",
    "loanlevel_full.head()"
   ]
  },
  {
   "cell_type": "code",
   "execution_count": 5,
   "metadata": {},
   "outputs": [
    {
     "data": {
      "text/plain": [
       "2015"
      ]
     },
     "execution_count": 5,
     "metadata": {},
     "output_type": "execute_result"
    }
   ],
   "source": [
    "loanlevel_full.LOAN_ORIG_YEAR.max()"
   ]
  },
  {
   "cell_type": "code",
   "execution_count": 6,
   "metadata": {},
   "outputs": [
    {
     "data": {
      "text/plain": [
       "202003"
      ]
     },
     "execution_count": 6,
     "metadata": {},
     "output_type": "execute_result"
    }
   ],
   "source": [
    "loanlevel_full.FIRST_PAYMENT_DATE.max()"
   ]
  },
  {
   "cell_type": "markdown",
   "metadata": {},
   "source": [
    "#### Export for further use in data preparation"
   ]
  },
  {
   "cell_type": "code",
   "execution_count": 7,
   "metadata": {},
   "outputs": [],
   "source": [
    "# save as CSV\n",
    "loanlevel_full.to_csv('../data-raw/full_loanlevel_2015.csv', index=False)"
   ]
  },
  {
   "cell_type": "code",
   "execution_count": null,
   "metadata": {},
   "outputs": [],
   "source": []
  }
 ],
 "metadata": {
  "kernelspec": {
   "display_name": "Python 3",
   "language": "python",
   "name": "python3"
  },
  "language_info": {
   "codemirror_mode": {
    "name": "ipython",
    "version": 3
   },
   "file_extension": ".py",
   "mimetype": "text/x-python",
   "name": "python",
   "nbconvert_exporter": "python",
   "pygments_lexer": "ipython3",
   "version": "3.6.6"
  },
  "toc": {
   "base_numbering": 1,
   "nav_menu": {},
   "number_sections": true,
   "sideBar": true,
   "skip_h1_title": false,
   "title_cell": "Table of Contents",
   "title_sidebar": "Contents",
   "toc_cell": false,
   "toc_position": {},
   "toc_section_display": true,
   "toc_window_display": false
  }
 },
 "nbformat": 4,
 "nbformat_minor": 4
}
